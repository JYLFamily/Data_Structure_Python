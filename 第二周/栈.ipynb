{
 "cells": [
  {
   "cell_type": "markdown",
   "source": [
    "# 栈"
   ],
   "metadata": {
    "collapsed": false
   }
  },
  {
   "cell_type": "markdown",
   "source": [
    "## list 右侧作为栈顶"
   ],
   "metadata": {
    "collapsed": false,
    "pycharm": {
     "name": "#%% md\n"
    }
   }
  },
  {
   "cell_type": "code",
   "execution_count": 6,
   "outputs": [],
   "source": [
    "class Stack(object):\n",
    "    def __init__(self):\n",
    "        self.__stack = list()\n",
    "    \n",
    "    def pop(self):\n",
    "        return self.__stack.pop()\n",
    "        \n",
    "    def push(self, element):\n",
    "        self.__stack.append(element)\n",
    "    \n",
    "    def peek(self):\n",
    "        return self.__stack[-1]\n",
    "    \n",
    "    def size(self):\n",
    "        return len(self.__stack)\n",
    "    \n",
    "    def is_empty(self):\n",
    "        return self.size() == 0"
   ],
   "metadata": {
    "collapsed": false,
    "pycharm": {
     "name": "#%%\n",
     "is_executing": false
    }
   }
  },
  {
   "cell_type": "code",
   "execution_count": 7,
   "outputs": [
    {
     "name": "stdout",
     "text": [
      "True\ndog\n3\nFalse\n8.4\nTrue\n2\n"
     ],
     "output_type": "stream"
    }
   ],
   "source": [
    "stack = Stack()\n",
    "print(stack.is_empty())\n",
    "stack.push(4)\n",
    "stack.push(\"dog\")\n",
    "print(stack.peek())\n",
    "stack.push(True)\n",
    "print(stack.size())\n",
    "print(stack.is_empty())\n",
    "stack.push(8.4)\n",
    "print(stack.pop())\n",
    "print(stack.pop())\n",
    "print(stack.size())"
   ],
   "metadata": {
    "collapsed": false,
    "pycharm": {
     "name": "#%%",
     "is_executing": false
    }
   }
  },
  {
   "cell_type": "markdown",
   "source": [
    "## list 左侧作为栈顶"
   ],
   "metadata": {
    "collapsed": false,
    "pycharm": {
     "name": "#%% md\n",
     "is_executing": false
    }
   }
  },
  {
   "cell_type": "code",
   "execution_count": null,
   "outputs": [],
   "source": [
    "class Stack(object):\n",
    "    def __init__(self):\n",
    "        self.__stack = list()\n",
    "    \n",
    "    def pop(self):\n",
    "        return self.__stack.pop(0)\n",
    "        \n",
    "    def push(self, element):\n",
    "        self.__stack.insert(element, 0)\n",
    "    \n",
    "    def peek(self):\n",
    "        return self.__stack[0]\n",
    "    \n",
    "    def size(self):\n",
    "        return len(self.__stack)\n",
    "    \n",
    "    def is_empty(self):\n",
    "        return self.size() == 0"
   ],
   "metadata": {
    "collapsed": false,
    "pycharm": {
     "name": "#%%\n"
    }
   }
  },
  {
   "cell_type": "code",
   "execution_count": 8,
   "outputs": [
    {
     "name": "stdout",
     "text": [
      "True\ndog\n3\nFalse\n8.4\nTrue\n2\n"
     ],
     "output_type": "stream"
    }
   ],
   "source": [
    "stack = Stack()\n",
    "print(stack.is_empty())\n",
    "stack.push(4)\n",
    "stack.push(\"dog\")\n",
    "print(stack.peek())\n",
    "stack.push(True)\n",
    "print(stack.size())\n",
    "print(stack.is_empty())\n",
    "stack.push(8.4)\n",
    "print(stack.pop())\n",
    "print(stack.pop())\n",
    "print(stack.size())\n"
   ],
   "metadata": {
    "collapsed": false,
    "pycharm": {
     "name": "#%%\n",
     "is_executing": false
    }
   }
  }
 ],
 "metadata": {
  "language_info": {
   "codemirror_mode": {
    "name": "ipython",
    "version": 2
   },
   "file_extension": ".py",
   "mimetype": "text/x-python",
   "name": "python",
   "nbconvert_exporter": "python",
   "pygments_lexer": "ipython2",
   "version": "2.7.6"
  },
  "kernelspec": {
   "name": "python3",
   "language": "python",
   "display_name": "Python 3"
  },
  "pycharm": {
   "stem_cell": {
    "cell_type": "raw",
    "source": [],
    "metadata": {
     "collapsed": false
    }
   }
  }
 },
 "nbformat": 4,
 "nbformat_minor": 0
}