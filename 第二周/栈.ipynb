{
 "cells": [
  {
   "cell_type": "markdown",
   "source": [
    "# 栈"
   ],
   "metadata": {
    "collapsed": false
   }
  },
  {
   "cell_type": "code",
   "execution_count": 1,
   "outputs": [],
   "source": [
    "class Stack(object):\n",
    "    def __init__(self):\n",
    "        self.__stack = list()\n",
    "    \n",
    "    def pop(self):\n",
    "        return self.__stack.pop()\n",
    "        \n",
    "    def push(self, element):\n",
    "        self.__stack.append(element)\n",
    "    \n",
    "    def peek(self):\n",
    "        return self.__stack[-1]\n",
    "    \n",
    "    def size(self):\n",
    "        return len(self.__stack)\n",
    "    \n",
    "    def is_empty(self):\n",
    "        return self.size == 0"
   ],
   "metadata": {
    "collapsed": false,
    "pycharm": {
     "name": "#%%\n",
     "is_executing": false
    }
   }
  },
  {
   "cell_type": "code",
   "execution_count": null,
   "outputs": [],
   "source": [],
   "metadata": {
    "collapsed": false,
    "pycharm": {
     "name": "#%%"
    }
   }
  }
 ],
 "metadata": {
  "language_info": {
   "codemirror_mode": {
    "name": "ipython",
    "version": 2
   },
   "file_extension": ".py",
   "mimetype": "text/x-python",
   "name": "python",
   "nbconvert_exporter": "python",
   "pygments_lexer": "ipython2",
   "version": "2.7.6"
  },
  "kernelspec": {
   "name": "python3",
   "language": "python",
   "display_name": "Python 3"
  },
  "pycharm": {
   "stem_cell": {
    "cell_type": "raw",
    "source": [],
    "metadata": {
     "collapsed": false
    }
   }
  }
 },
 "nbformat": 4,
 "nbformat_minor": 0
}