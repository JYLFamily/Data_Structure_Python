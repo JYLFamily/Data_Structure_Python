{
 "cells": [
  {
   "cell_type": "markdown",
   "metadata": {
    "collapsed": true,
    "pycharm": {
     "name": "#%% md\n"
    }
   },
   "source": [
    "# 栈应用-中缀表达式计算"
   ]
  },
  {
   "cell_type": "markdown",
   "source": [
    "## 栈"
   ],
   "metadata": {
    "collapsed": false
   }
  },
  {
   "cell_type": "code",
   "execution_count": 3,
   "outputs": [],
   "source": [
    "class Stack(object):\n",
    "    def __init__(self):\n",
    "        self.__stack = list()\n",
    "    \n",
    "    def pop(self):\n",
    "        return self.__stack.pop()\n",
    "        \n",
    "    def push(self, element):\n",
    "        self.__stack.append(element)\n",
    "    \n",
    "    def peek(self):\n",
    "        return self.__stack[-1]\n",
    "    \n",
    "    def size(self):\n",
    "        return len(self.__stack)\n",
    "    \n",
    "    def is_empty(self):\n",
    "        return self.size() == 0\n",
    "    "
   ],
   "metadata": {
    "collapsed": false,
    "pycharm": {
     "name": "#%%\n",
     "is_executing": false
    }
   }
  },
  {
   "cell_type": "markdown",
   "source": [
    "## 中缀表达式计算"
   ],
   "metadata": {
    "collapsed": false
   }
  },
  {
   "cell_type": "code",
   "execution_count": 15,
   "outputs": [],
   "source": [
    "def infix_to_postfix(infix_expr):\n",
    "    prec = dict()\n",
    "    \n",
    "    prec[\"*\"] = 3\n",
    "    prec[\"/\"] = 3\n",
    "    prec[\"+\"] = 2\n",
    "    prec[\"-\"] = 2\n",
    "    prec[\"(\"] = 1\n",
    "    \n",
    "    opstack = Stack()\n",
    "    postfix_expr = list()\n",
    "    \n",
    "    \n",
    "    for element in infix_expr:\n",
    "        if (element not in prec.keys() and\n",
    "            element != \"(\" and\n",
    "            element != \")\"):\n",
    "            postfix_expr.append(element)\n",
    "        elif element == \"(\":\n",
    "            opstack.push(element)\n",
    "        elif element == \")\":\n",
    "            while opstack.peek() != \"(\":\n",
    "                postfix_expr.append(opstack.pop())\n",
    "            opstack.pop()  # 需要将 \"(\" 弹出\n",
    "        else:\n",
    "            if opstack.is_empty():\n",
    "                opstack.push(element)\n",
    "            else:\n",
    "                if prec[element] > prec[opstack.peek()]:  # 包含与 \"(\" 优先级比较\n",
    "                    opstack.push(element)\n",
    "                else:\n",
    "                    while not opstack.is_empty() and prec[opstack.peek()] >= prec[element]:\n",
    "                        postfix_expr.append(opstack.pop())  \n",
    "                    opstack.push(element)\n",
    "\n",
    "    while not opstack.is_empty():\n",
    "        postfix_expr.append(opstack.pop())\n",
    "    \n",
    "    return \"\".join(postfix_expr)\n",
    "    "
   ],
   "metadata": {
    "collapsed": false,
    "pycharm": {
     "name": "#%%\n",
     "is_executing": false
    }
   }
  },
  {
   "cell_type": "code",
   "execution_count": 16,
   "outputs": [
    {
     "name": "stdout",
     "text": [
      "AB*CD*+\nAB+C*DE-FG+*-\n"
     ],
     "output_type": "stream"
    }
   ],
   "source": [
    "print(infix_to_postfix(\"A*B+C*D\"))\n",
    "print(infix_to_postfix(\"(A+B)*C-(D-E)*(F+G)\"))\n",
    "\n"
   ],
   "metadata": {
    "collapsed": false,
    "pycharm": {
     "name": "#%% \n",
     "is_executing": false
    }
   }
  }
 ],
 "metadata": {
  "language_info": {
   "codemirror_mode": {
    "name": "ipython",
    "version": 2
   },
   "file_extension": ".py",
   "mimetype": "text/x-python",
   "name": "python",
   "nbconvert_exporter": "python",
   "pygments_lexer": "ipython2",
   "version": "2.7.6"
  },
  "kernelspec": {
   "name": "python3",
   "language": "python",
   "display_name": "Python 3"
  },
  "pycharm": {
   "stem_cell": {
    "cell_type": "raw",
    "source": [],
    "metadata": {
     "collapsed": false
    }
   }
  }
 },
 "nbformat": 4,
 "nbformat_minor": 0
}