{
 "cells": [
  {
   "cell_type": "markdown",
   "metadata": {
    "collapsed": true,
    "pycharm": {
     "name": "#%% md\n"
    }
   },
   "source": [
    "# 栈应用-括号匹配"
   ]
  },
  {
   "cell_type": "markdown",
   "source": [
    "## 栈"
   ],
   "metadata": {
    "collapsed": false,
    "pycharm": {
     "name": "#%% md\n"
    }
   }
  },
  {
   "cell_type": "code",
   "execution_count": 1,
   "outputs": [],
   "source": [
    "class Stack(object):\n",
    "    def __init__(self):\n",
    "        self.__stack = list()\n",
    "    \n",
    "    def pop(self):\n",
    "        return self.__stack.pop()\n",
    "        \n",
    "    def push(self, element):\n",
    "        self.__stack.append(element)\n",
    "    \n",
    "    def peek(self):\n",
    "        return self.__stack[-1]\n",
    "    \n",
    "    def size(self):\n",
    "        return len(self.__stack)\n",
    "    \n",
    "    def is_empty(self):\n",
    "        return self.size() == 0\n",
    "    "
   ],
   "metadata": {
    "collapsed": false,
    "pycharm": {
     "name": "#%%\n",
     "is_executing": false
    }
   }
  },
  {
   "cell_type": "markdown",
   "source": [
    "## 括号匹配"
   ],
   "metadata": {
    "collapsed": false,
    "pycharm": {
     "name": "#%% md\n"
    }
   }
  },
  {
   "cell_type": "code",
   "execution_count": 2,
   "outputs": [],
   "source": [
    "def par_checker(symbol_string):\n",
    "    stack = Stack()\n",
    "    \n",
    "    for s in symbol_string:\n",
    "        if s == \"(\":\n",
    "            stack.push(s)\n",
    "        else:\n",
    "            if stack.is_empty():\n",
    "               return False\n",
    "            else:\n",
    "                stack.pop()\n",
    "    else:\n",
    "        if stack.is_empty():\n",
    "            return True\n",
    "        else:\n",
    "            return False"
   ],
   "metadata": {
    "collapsed": false,
    "pycharm": {
     "name": "#%%\n",
     "is_executing": false
    }
   }
  },
  {
   "cell_type": "code",
   "execution_count": 3,
   "outputs": [
    {
     "name": "stdout",
     "text": [
      "True\nFalse\n"
     ],
     "output_type": "stream"
    }
   ],
   "source": [
    "print(par_checker(\"((()))\"))\n",
    "print(par_checker(\"(()\"))"
   ],
   "metadata": {
    "collapsed": false,
    "pycharm": {
     "name": "#%% \n",
     "is_executing": false
    }
   }
  }
 ],
 "metadata": {
  "language_info": {
   "codemirror_mode": {
    "name": "ipython",
    "version": 2
   },
   "file_extension": ".py",
   "mimetype": "text/x-python",
   "name": "python",
   "nbconvert_exporter": "python",
   "pygments_lexer": "ipython2",
   "version": "2.7.6"
  },
  "kernelspec": {
   "name": "python3",
   "language": "python",
   "display_name": "Python 3"
  },
  "pycharm": {
   "stem_cell": {
    "cell_type": "raw",
    "source": [],
    "metadata": {
     "collapsed": false
    }
   }
  }
 },
 "nbformat": 4,
 "nbformat_minor": 0
}